{
 "cells": [
  {
   "cell_type": "code",
   "execution_count": 2,
   "id": "127fb7c7",
   "metadata": {},
   "outputs": [],
   "source": [
    "from sklearn.feature_extraction.text import CountVectorizer, TfidfVectorizer\n",
    "import seaborn as sns\n",
    "import torch\n",
    "import numpy as np"
   ]
  },
  {
   "cell_type": "markdown",
   "id": "6c983fd0",
   "metadata": {},
   "source": [
    "# TF Representation"
   ]
  },
  {
   "cell_type": "code",
   "execution_count": 3,
   "id": "4f455052",
   "metadata": {},
   "outputs": [
    {
     "data": {
      "text/plain": [
       "<AxesSubplot:>"
      ]
     },
     "execution_count": 3,
     "metadata": {},
     "output_type": "execute_result"
    },
    {
     "data": {
      "image/png": "[encoded data removed]",
      "text/plain": [
       "<Figure size 432x288 with 1 Axes>"
      ]
     },
     "metadata": {
      "needs_background": "light"
     },
     "output_type": "display_data"
    }
   ],
   "source": [
    "corpus = ['Time flies flies like an arrow.', 'Fruit flies like a banana.']\n",
    "vocab = ['an', 'arrow', 'banana', 'flies', 'fruit', 'like', 'time']\n",
    "one_hot_vectorizer = CountVectorizer(binary=True)\n",
    "one_hot = one_hot_vectorizer.fit_transform(corpus).toarray()\n",
    "\n",
    "sns.heatmap(one_hot, annot=True, cbar=False, xticklabels=vocab, yticklabels=['Sentence 1', 'Sentence 2'])"
   ]
  },
  {
   "cell_type": "markdown",
   "id": "eda77111",
   "metadata": {},
   "source": [
    "# TF-IDF Representation"
   ]
  },
  {
   "cell_type": "code",
   "execution_count": 4,
   "id": "6386c7f3",
   "metadata": {},
   "outputs": [
    {
     "data": {
      "text/plain": [
       "<AxesSubplot:>"
      ]
     },
     "execution_count": 4,
     "metadata": {},
     "output_type": "execute_result"
    },
    {
     "data": {
      "image/png": "[encoded data removed]",
      "text/plain": [
       "<Figure size 432x288 with 1 Axes>"
      ]
     },
     "metadata": {
      "needs_background": "light"
     },
     "output_type": "display_data"
    }
   ],
   "source": [
    "tfidf_vectorizer = TfidfVectorizer()\n",
    "tfidf = tfidf_vectorizer.fit_transform(corpus).toarray()\n",
    "\n",
    "sns.heatmap(tfidf, annot=True, cbar=False, xticklabels=vocab, yticklabels= ['Sentence 1', 'Sentence 2'])"
   ]
  },
  {
   "cell_type": "markdown",
   "id": "330d1f47",
   "metadata": {},
   "source": [
    "# Creating Tensors"
   ]
  },
  {
   "cell_type": "code",
   "execution_count": 5,
   "id": "3a17b17b",
   "metadata": {},
   "outputs": [],
   "source": [
    "def describe(x):\n",
    "    print(\"Type: {}\".format(x.type()))\n",
    "    print(\"Shape/size: {}\".format(x.shape))\n",
    "    print(\"Values: \\n{}\".format(x))"
   ]
  },
  {
   "cell_type": "code",
   "execution_count": 6,
   "id": "62bb6d6f",
   "metadata": {},
   "outputs": [
    {
     "name": "stdout",
     "output_type": "stream",
     "text": [
      "Type: torch.FloatTensor\n",
      "Shape/size: torch.Size([2, 3])\n",
      "Values: \n",
      "tensor([[0.0000, 4.5859, 0.0000],\n",
      "        [0.0000, 0.0000, 4.7070]])\n"
     ]
    }
   ],
   "source": [
    "describe(torch.Tensor(2, 3))"
   ]
  },
  {
   "cell_type": "code",
   "execution_count": 7,
   "id": "fc95eb11",
   "metadata": {},
   "outputs": [
    {
     "name": "stdout",
     "output_type": "stream",
     "text": [
      "Type: torch.FloatTensor\n",
      "Shape/size: torch.Size([2, 3])\n",
      "Values: \n",
      "tensor([[0.0241, 0.8828, 0.0107],\n",
      "        [0.1163, 0.6713, 0.0766]])\n",
      "\n",
      "\n",
      "Type: torch.FloatTensor\n",
      "Shape/size: torch.Size([2, 3])\n",
      "Values: \n",
      "tensor([[ 1.2349,  0.7714,  0.7789],\n",
      "        [ 1.5596, -0.4156, -0.6980]])\n"
     ]
    }
   ],
   "source": [
    "describe(torch.rand(2, 3)) # uniform random\n",
    "print(\"\\n\")\n",
    "describe(torch.randn(2, 3)) # random normal"
   ]
  },
  {
   "cell_type": "code",
   "execution_count": 8,
   "id": "95629820",
   "metadata": {},
   "outputs": [
    {
     "name": "stdout",
     "output_type": "stream",
     "text": [
      "Type: torch.FloatTensor\n",
      "Shape/size: torch.Size([2, 3])\n",
      "Values: \n",
      "tensor([[0., 0., 0.],\n",
      "        [0., 0., 0.]])\n",
      "\n",
      "\n",
      "Type: torch.FloatTensor\n",
      "Shape/size: torch.Size([2, 3])\n",
      "Values: \n",
      "tensor([[1., 1., 1.],\n",
      "        [1., 1., 1.]])\n",
      "\n",
      "\n",
      "Type: torch.FloatTensor\n",
      "Shape/size: torch.Size([2, 3])\n",
      "Values: \n",
      "tensor([[5., 5., 5.],\n",
      "        [5., 5., 5.]])\n"
     ]
    }
   ],
   "source": [
    "describe(torch.zeros(2, 3))\n",
    "print(\"\\n\")\n",
    "x = torch.ones(2, 3)\n",
    "describe(x)\n",
    "print(\"\\n\")\n",
    "x.fill_(5)\n",
    "describe(x)"
   ]
  },
  {
   "cell_type": "code",
   "execution_count": 9,
   "id": "6ecdbf19",
   "metadata": {},
   "outputs": [
    {
     "name": "stdout",
     "output_type": "stream",
     "text": [
      "Type: torch.FloatTensor\n",
      "Shape/size: torch.Size([2, 3])\n",
      "Values: \n",
      "tensor([[1., 2., 3.],\n",
      "        [4., 5., 6.]])\n"
     ]
    }
   ],
   "source": [
    "x = torch.Tensor([[1, 2, 3],\n",
    "                 [4, 5, 6]])\n",
    "describe(x)"
   ]
  },
  {
   "cell_type": "code",
   "execution_count": 10,
   "id": "b14fb2cc",
   "metadata": {},
   "outputs": [
    {
     "name": "stdout",
     "output_type": "stream",
     "text": [
      "Type: torch.FloatTensor\n",
      "Shape/size: torch.Size([2, 3])\n",
      "Values: \n",
      "tensor([[0.9281, 0.4640, 0.3397],\n",
      "        [0.4776, 0.2487, 0.4843]])\n"
     ]
    }
   ],
   "source": [
    "npy = np.random.rand(2, 3)\n",
    "describe(torch.Tensor(npy))"
   ]
  },
  {
   "cell_type": "code",
   "execution_count": 11,
   "id": "517506b1",
   "metadata": {},
   "outputs": [
    {
     "name": "stdout",
     "output_type": "stream",
     "text": [
      "Type: torch.FloatTensor\n",
      "Shape/size: torch.Size([2, 3])\n",
      "Values: \n",
      "tensor([[1., 2., 3.],\n",
      "        [4., 5., 6.]])\n"
     ]
    }
   ],
   "source": [
    "x = torch.FloatTensor([[1, 2, 3],\n",
    "                       [4, 5, 6]])\n",
    "describe(x)"
   ]
  },
  {
   "cell_type": "code",
   "execution_count": 12,
   "id": "3a9e7ef6",
   "metadata": {},
   "outputs": [
    {
     "name": "stdout",
     "output_type": "stream",
     "text": [
      "Type: torch.LongTensor\n",
      "Shape/size: torch.Size([2, 3])\n",
      "Values: \n",
      "tensor([[1, 2, 3],\n",
      "        [4, 5, 6]])\n"
     ]
    }
   ],
   "source": [
    "x = x.long()\n",
    "describe(x)"
   ]
  },
  {
   "cell_type": "code",
   "execution_count": 13,
   "id": "a1ed8065",
   "metadata": {},
   "outputs": [
    {
     "name": "stdout",
     "output_type": "stream",
     "text": [
      "Type: torch.LongTensor\n",
      "Shape/size: torch.Size([2, 3])\n",
      "Values: \n",
      "tensor([[1, 2, 3],\n",
      "        [4, 5, 6]])\n"
     ]
    }
   ],
   "source": [
    "x = torch.tensor([[1, 2, 3],\n",
    "                  [4, 5, 6]], dtype=torch.int64)\n",
    "describe(x)"
   ]
  },
  {
   "cell_type": "code",
   "execution_count": 14,
   "id": "31dcd48c",
   "metadata": {},
   "outputs": [
    {
     "name": "stdout",
     "output_type": "stream",
     "text": [
      "Type: torch.FloatTensor\n",
      "Shape/size: torch.Size([2, 3])\n",
      "Values: \n",
      "tensor([[1., 2., 3.],\n",
      "        [4., 5., 6.]])\n"
     ]
    }
   ],
   "source": [
    "x = x.float()\n",
    "describe(x)"
   ]
  },
  {
   "cell_type": "code",
   "execution_count": 15,
   "id": "edd12ab1",
   "metadata": {},
   "outputs": [
    {
     "name": "stdout",
     "output_type": "stream",
     "text": [
      "Type: torch.FloatTensor\n",
      "Shape/size: torch.Size([3, 2, 3])\n",
      "Values: \n",
      "tensor([[[1., 2., 3.],\n",
      "         [4., 5., 6.]],\n",
      "\n",
      "        [[1., 2., 3.],\n",
      "         [4., 5., 6.]],\n",
      "\n",
      "        [[1., 2., 3.],\n",
      "         [4., 5., 6.]]])\n"
     ]
    }
   ],
   "source": [
    "x = torch.Tensor([\n",
    "     [\n",
    "       [1, 2, 3],\n",
    "       [4, 5, 6]\n",
    "     ],\n",
    "     [\n",
    "       [1, 2, 3],\n",
    "       [4, 5, 6]\n",
    "     ],\n",
    "     [\n",
    "       [1, 2, 3],\n",
    "       [4, 5, 6]\n",
    "     ]\n",
    "   ])\n",
    "describe(x)"
   ]
  },
  {
   "cell_type": "markdown",
   "id": "5ebc39e5",
   "metadata": {},
   "source": [
    "# Tensor Operations"
   ]
  },
  {
   "cell_type": "code",
   "execution_count": 16,
   "id": "28cdf2d8",
   "metadata": {},
   "outputs": [
    {
     "name": "stdout",
     "output_type": "stream",
     "text": [
      "Type: torch.FloatTensor\n",
      "Shape/size: torch.Size([2, 3])\n",
      "Values: \n",
      "tensor([[ 1.7447, -1.3432,  1.0174],\n",
      "        [ 0.7976, -0.1520, -1.0082]])\n"
     ]
    }
   ],
   "source": [
    "x = torch.randn(2, 3)\n",
    "describe(x)"
   ]
  },
  {
   "cell_type": "code",
   "execution_count": 17,
   "id": "e935c3ca",
   "metadata": {},
   "outputs": [
    {
     "name": "stdout",
     "output_type": "stream",
     "text": [
      "Type: torch.FloatTensor\n",
      "Shape/size: torch.Size([2, 3])\n",
      "Values: \n",
      "tensor([[ 3.4894, -2.6864,  2.0347],\n",
      "        [ 1.5953, -0.3039, -2.0164]])\n"
     ]
    }
   ],
   "source": [
    "describe(torch.add(x, x))"
   ]
  },
  {
   "cell_type": "code",
   "execution_count": 18,
   "id": "def54095",
   "metadata": {},
   "outputs": [
    {
     "name": "stdout",
     "output_type": "stream",
     "text": [
      "Type: torch.FloatTensor\n",
      "Shape/size: torch.Size([2, 3])\n",
      "Values: \n",
      "tensor([[ 3.4894, -2.6864,  2.0347],\n",
      "        [ 1.5953, -0.3039, -2.0164]])\n"
     ]
    }
   ],
   "source": [
    "describe(x + x)"
   ]
  },
  {
   "cell_type": "code",
   "execution_count": 19,
   "id": "db78ea13",
   "metadata": {},
   "outputs": [
    {
     "name": "stdout",
     "output_type": "stream",
     "text": [
      "Type: torch.LongTensor\n",
      "Shape/size: torch.Size([6])\n",
      "Values: \n",
      "tensor([0, 1, 2, 3, 4, 5])\n"
     ]
    }
   ],
   "source": [
    "x = torch.arange(6)\n",
    "describe(x)"
   ]
  },
  {
   "cell_type": "code",
   "execution_count": 20,
   "id": "4da2c2d3",
   "metadata": {},
   "outputs": [
    {
     "name": "stdout",
     "output_type": "stream",
     "text": [
      "Type: torch.LongTensor\n",
      "Shape/size: torch.Size([2, 3])\n",
      "Values: \n",
      "tensor([[0, 1, 2],\n",
      "        [3, 4, 5]])\n"
     ]
    }
   ],
   "source": [
    "x = x.view(2, 3)\n",
    "describe(x)"
   ]
  },
  {
   "cell_type": "code",
   "execution_count": 21,
   "id": "bec56b9b",
   "metadata": {},
   "outputs": [
    {
     "name": "stdout",
     "output_type": "stream",
     "text": [
      "Type: torch.LongTensor\n",
      "Shape/size: torch.Size([3])\n",
      "Values: \n",
      "tensor([3, 5, 7])\n"
     ]
    }
   ],
   "source": [
    "describe(torch.sum(x, dim=0))"
   ]
  },
  {
   "cell_type": "code",
   "execution_count": 22,
   "id": "08416648",
   "metadata": {},
   "outputs": [
    {
     "name": "stdout",
     "output_type": "stream",
     "text": [
      "Type: torch.LongTensor\n",
      "Shape/size: torch.Size([2])\n",
      "Values: \n",
      "tensor([ 3, 12])\n"
     ]
    }
   ],
   "source": [
    "describe(torch.sum(x, dim=1))"
   ]
  },
  {
   "cell_type": "code",
   "execution_count": 23,
   "id": "11ed46a7",
   "metadata": {},
   "outputs": [
    {
     "name": "stdout",
     "output_type": "stream",
     "text": [
      "Type: torch.LongTensor\n",
      "Shape/size: torch.Size([3, 2])\n",
      "Values: \n",
      "tensor([[0, 3],\n",
      "        [1, 4],\n",
      "        [2, 5]])\n"
     ]
    }
   ],
   "source": [
    "describe(torch.transpose(x, 0, 1))"
   ]
  },
  {
   "cell_type": "markdown",
   "id": "24d04869",
   "metadata": {},
   "source": [
    "# Indexing, Slicing, Joining"
   ]
  },
  {
   "cell_type": "code",
   "execution_count": 24,
   "id": "af023e5f",
   "metadata": {},
   "outputs": [
    {
     "name": "stdout",
     "output_type": "stream",
     "text": [
      "Type: torch.LongTensor\n",
      "Shape/size: torch.Size([2, 3])\n",
      "Values: \n",
      "tensor([[0, 1, 2],\n",
      "        [3, 4, 5]])\n"
     ]
    }
   ],
   "source": [
    "x = torch.arange(6).view(2, 3)\n",
    "describe(x)"
   ]
  },
  {
   "cell_type": "code",
   "execution_count": 25,
   "id": "ee3df2c1",
   "metadata": {},
   "outputs": [
    {
     "name": "stdout",
     "output_type": "stream",
     "text": [
      "Type: torch.LongTensor\n",
      "Shape/size: torch.Size([1, 2])\n",
      "Values: \n",
      "tensor([[0, 1]])\n"
     ]
    }
   ],
   "source": [
    "describe(x[:1, :2])"
   ]
  },
  {
   "cell_type": "code",
   "execution_count": 26,
   "id": "5e433530",
   "metadata": {},
   "outputs": [
    {
     "name": "stdout",
     "output_type": "stream",
     "text": [
      "Type: torch.LongTensor\n",
      "Shape/size: torch.Size([])\n",
      "Values: \n",
      "4\n"
     ]
    }
   ],
   "source": [
    "describe(x[1, 1])"
   ]
  },
  {
   "cell_type": "code",
   "execution_count": 27,
   "id": "2a5cd743",
   "metadata": {},
   "outputs": [
    {
     "name": "stdout",
     "output_type": "stream",
     "text": [
      "Type: torch.LongTensor\n",
      "Shape/size: torch.Size([2, 4])\n",
      "Values: \n",
      "tensor([[0, 2, 2, 0],\n",
      "        [3, 5, 5, 3]])\n"
     ]
    }
   ],
   "source": [
    "indices = torch.LongTensor([0, 2, 2, 0])\n",
    "describe(torch.index_select(x, dim=1, index=indices))"
   ]
  },
  {
   "cell_type": "code",
   "execution_count": 28,
   "id": "8ff3e8bc",
   "metadata": {},
   "outputs": [
    {
     "name": "stdout",
     "output_type": "stream",
     "text": [
      "Type: torch.LongTensor\n",
      "Shape/size: torch.Size([2, 3])\n",
      "Values: \n",
      "tensor([[0, 1, 2],\n",
      "        [3, 4, 5]])\n"
     ]
    }
   ],
   "source": [
    "indices = torch.LongTensor([0, 1])\n",
    "describe(torch.index_select(x, dim=0, index=indices))"
   ]
  },
  {
   "cell_type": "code",
   "execution_count": 29,
   "id": "42d2a5da",
   "metadata": {},
   "outputs": [
    {
     "name": "stdout",
     "output_type": "stream",
     "text": [
      "Type: torch.LongTensor\n",
      "Shape/size: torch.Size([2])\n",
      "Values: \n",
      "tensor([0, 4])\n"
     ]
    }
   ],
   "source": [
    "row_indices = torch.arange(2).long()\n",
    "col_indices = torch.LongTensor([0, 1])\n",
    "describe(x[row_indices, col_indices])"
   ]
  },
  {
   "cell_type": "code",
   "execution_count": 30,
   "id": "b687b204",
   "metadata": {},
   "outputs": [
    {
     "name": "stdout",
     "output_type": "stream",
     "text": [
      "Type: torch.LongTensor\n",
      "Shape/size: torch.Size([2, 3])\n",
      "Values: \n",
      "tensor([[0, 1, 2],\n",
      "        [3, 4, 5]])\n"
     ]
    }
   ],
   "source": [
    "x = torch.arange(6).view(2,3)\n",
    "describe(x)"
   ]
  },
  {
   "cell_type": "code",
   "execution_count": 31,
   "id": "3abee5fc",
   "metadata": {},
   "outputs": [
    {
     "name": "stdout",
     "output_type": "stream",
     "text": [
      "Type: torch.LongTensor\n",
      "Shape/size: torch.Size([4, 3])\n",
      "Values: \n",
      "tensor([[0, 1, 2],\n",
      "        [3, 4, 5],\n",
      "        [0, 1, 2],\n",
      "        [3, 4, 5]])\n"
     ]
    }
   ],
   "source": [
    "describe(torch.cat([x, x], dim=0))"
   ]
  },
  {
   "cell_type": "code",
   "execution_count": 32,
   "id": "c6147a02",
   "metadata": {},
   "outputs": [
    {
     "name": "stdout",
     "output_type": "stream",
     "text": [
      "Type: torch.LongTensor\n",
      "Shape/size: torch.Size([2, 6])\n",
      "Values: \n",
      "tensor([[0, 1, 2, 0, 1, 2],\n",
      "        [3, 4, 5, 3, 4, 5]])\n"
     ]
    }
   ],
   "source": [
    "describe(torch.cat([x, x], dim=1))"
   ]
  },
  {
   "cell_type": "code",
   "execution_count": 33,
   "id": "b23f8cd9",
   "metadata": {},
   "outputs": [
    {
     "name": "stdout",
     "output_type": "stream",
     "text": [
      "Type: torch.LongTensor\n",
      "Shape/size: torch.Size([2, 2, 3])\n",
      "Values: \n",
      "tensor([[[0, 1, 2],\n",
      "         [3, 4, 5]],\n",
      "\n",
      "        [[0, 1, 2],\n",
      "         [3, 4, 5]]])\n"
     ]
    }
   ],
   "source": [
    "describe(torch.stack([x, x]))"
   ]
  },
  {
   "cell_type": "code",
   "execution_count": 34,
   "id": "2a95234d",
   "metadata": {},
   "outputs": [
    {
     "name": "stdout",
     "output_type": "stream",
     "text": [
      "Type: torch.LongTensor\n",
      "Shape/size: torch.Size([2, 3])\n",
      "Values: \n",
      "tensor([[0, 1, 2],\n",
      "        [3, 4, 5]])\n"
     ]
    }
   ],
   "source": [
    "x1 = torch.arange(6).view(2, 3)\n",
    "describe(x1)"
   ]
  },
  {
   "cell_type": "code",
   "execution_count": 35,
   "id": "1d411df1",
   "metadata": {},
   "outputs": [
    {
     "name": "stdout",
     "output_type": "stream",
     "text": [
      "Type: torch.FloatTensor\n",
      "Shape/size: torch.Size([3, 2])\n",
      "Values: \n",
      "tensor([[1., 2.],\n",
      "        [1., 2.],\n",
      "        [1., 2.]])\n"
     ]
    }
   ],
   "source": [
    "x2 = torch.ones(3, 2)\n",
    "x2[:, 1] += 1\n",
    "describe(x2)"
   ]
  },
  {
   "cell_type": "code",
   "execution_count": 36,
   "id": "0801f009",
   "metadata": {},
   "outputs": [],
   "source": [
    "x2 = x2.long()"
   ]
  },
  {
   "cell_type": "code",
   "execution_count": 37,
   "id": "74c39205",
   "metadata": {},
   "outputs": [
    {
     "name": "stdout",
     "output_type": "stream",
     "text": [
      "Type: torch.LongTensor\n",
      "Shape/size: torch.Size([3, 3])\n",
      "Values: \n",
      "tensor([[ 6,  9, 12],\n",
      "        [ 6,  9, 12],\n",
      "        [ 6,  9, 12]])\n"
     ]
    }
   ],
   "source": [
    "describe(torch.mm(x2, x1))"
   ]
  },
  {
   "cell_type": "markdown",
   "id": "e2370836",
   "metadata": {},
   "source": [
    "# Tensors and Computational Graphs"
   ]
  },
  {
   "cell_type": "code",
   "execution_count": 38,
   "id": "5ebf0310",
   "metadata": {},
   "outputs": [
    {
     "name": "stdout",
     "output_type": "stream",
     "text": [
      "Type: torch.FloatTensor\n",
      "Shape/size: torch.Size([2, 2])\n",
      "Values: \n",
      "tensor([[1., 1.],\n",
      "        [1., 1.]], requires_grad=True)\n",
      "True\n"
     ]
    }
   ],
   "source": [
    "x = torch.ones(2, 2, requires_grad=True)\n",
    "describe(x)\n",
    "print(x.grad is None)"
   ]
  },
  {
   "cell_type": "code",
   "execution_count": 39,
   "id": "384299ec",
   "metadata": {},
   "outputs": [
    {
     "name": "stdout",
     "output_type": "stream",
     "text": [
      "Type: torch.FloatTensor\n",
      "Shape/size: torch.Size([2, 2])\n",
      "Values: \n",
      "tensor([[21., 21.],\n",
      "        [21., 21.]], grad_fn=<AddBackward0>)\n",
      "True\n"
     ]
    }
   ],
   "source": [
    "y = (x + 2) * (x + 5) + 3\n",
    "describe(y)\n",
    "print(x.grad is None)"
   ]
  },
  {
   "cell_type": "code",
   "execution_count": 40,
   "id": "a227d075",
   "metadata": {},
   "outputs": [
    {
     "name": "stdout",
     "output_type": "stream",
     "text": [
      "Type: torch.FloatTensor\n",
      "Shape/size: torch.Size([])\n",
      "Values: \n",
      "21.0\n",
      "False\n",
      "tensor([[2.2500, 2.2500],\n",
      "        [2.2500, 2.2500]])\n"
     ]
    }
   ],
   "source": [
    "z = y.mean()\n",
    "describe(z)\n",
    "z.backward()\n",
    "print(x.grad is None)\n",
    "print(x.grad)"
   ]
  },
  {
   "cell_type": "markdown",
   "id": "68f84a06",
   "metadata": {},
   "source": [
    "# CUDA Tensors"
   ]
  },
  {
   "cell_type": "code",
   "execution_count": 41,
   "id": "0c296d3f",
   "metadata": {},
   "outputs": [
    {
     "name": "stdout",
     "output_type": "stream",
     "text": [
      "True\n"
     ]
    }
   ],
   "source": [
    "print(torch.cuda.is_available())"
   ]
  },
  {
   "cell_type": "code",
   "execution_count": 42,
   "id": "8559fa91",
   "metadata": {},
   "outputs": [
    {
     "name": "stdout",
     "output_type": "stream",
     "text": [
      "cuda\n"
     ]
    }
   ],
   "source": [
    "# preferred method: device agnostic tensor instantiation\n",
    "device = torch.device(\"cuda\" if torch.cuda.is_available() else \"cpu\")\n",
    "print (device)"
   ]
  },
  {
   "cell_type": "code",
   "execution_count": 44,
   "id": "c5262f64",
   "metadata": {},
   "outputs": [],
   "source": [
    "#x = torch.rand(3, 3).to(device)\n",
    "#describe(x)"
   ]
  },
  {
   "cell_type": "code",
   "execution_count": 45,
   "id": "12df93b5",
   "metadata": {},
   "outputs": [
    {
     "name": "stdout",
     "output_type": "stream",
     "text": [
      "1.8.1\n"
     ]
    }
   ],
   "source": [
    "print(torch.__version__)"
   ]
  },
  {
   "cell_type": "markdown",
   "id": "23ce583f",
   "metadata": {},
   "source": [
    "# Exercises\n",
    "1. Create a 2D tensor and then add a dimension of size 1 inserted at dimension 0.\n",
    "2. Remove the extra dimension you just added to the previous tensor.\n",
    "3. Create a random tensor of shape 5x3 in the interval [3, 7)\n",
    "4. Create a tensor with values from a normal distribution (mean=0, std=1).\n",
    "5. Retrieve the indexes of all the nonzero elements in the tensor torch.Tensor([1,\n",
    "1, 1, 0, 1]).\n",
    "6. Create a random tensor of size (3,1) and then horizontally stack four copies\n",
    "together.\n",
    "7. Return the batch matrix-matrix product of two three-dimensional matrices\n",
    "(a=torch.rand(3,4,5), b=torch.rand(3,5,4)).\n",
    "8. Return the batch matrix-matrix product of a 3D matrix and a 2D matrix\n",
    "(a=torch.rand(3,4,5), b=torch.rand(5,4))."
   ]
  },
  {
   "cell_type": "code",
   "execution_count": 54,
   "id": "4300b2be",
   "metadata": {},
   "outputs": [
    {
     "name": "stdout",
     "output_type": "stream",
     "text": [
      "Type: torch.FloatTensor\n",
      "Shape/size: torch.Size([3, 3])\n",
      "Values: \n",
      "tensor([[0.0164, 0.0544, 0.2828],\n",
      "        [0.5390, 0.7616, 0.4123],\n",
      "        [0.6554, 0.1762, 0.8227]])\n",
      "tensor(0.0164)\n",
      "Type: torch.FloatTensor\n",
      "Shape/size: torch.Size([1, 3, 3])\n",
      "Values: \n",
      "tensor([[[0.0164, 0.0544, 0.2828],\n",
      "         [0.5390, 0.7616, 0.4123],\n",
      "         [0.6554, 0.1762, 0.8227]]])\n",
      "tensor(0.0164)\n"
     ]
    }
   ],
   "source": [
    "#1. Create a 2D tensor and then add a dimension of size 1 inserted at dimension 0.\n",
    "\n",
    "x = torch.rand(3, 3)\n",
    "describe(x)\n",
    "print(x[0][0])\n",
    "x.unsqueeze_(0)\n",
    "describe(x)\n",
    "print(x[0][0][0])"
   ]
  },
  {
   "cell_type": "code",
   "execution_count": 52,
   "id": "58294620",
   "metadata": {},
   "outputs": [
    {
     "name": "stdout",
     "output_type": "stream",
     "text": [
      "Type: torch.FloatTensor\n",
      "Shape/size: torch.Size([3, 3])\n",
      "Values: \n",
      "tensor([[0.3775, 0.1027, 0.7138],\n",
      "        [0.0591, 0.6318, 0.2087],\n",
      "        [0.2736, 0.4463, 0.3880]])\n"
     ]
    }
   ],
   "source": [
    "#2. Remove the extra dimension you just added to the previous tensor.\n",
    "\n",
    "x.squeeze_(0)\n",
    "describe(x)"
   ]
  },
  {
   "cell_type": "code",
   "execution_count": 59,
   "id": "b69983f9",
   "metadata": {},
   "outputs": [
    {
     "name": "stdout",
     "output_type": "stream",
     "text": [
      "Type: torch.FloatTensor\n",
      "Shape/size: torch.Size([5, 3])\n",
      "Values: \n",
      "tensor([[4.9347, 6.0498, 3.6226],\n",
      "        [4.9964, 5.1488, 4.9613],\n",
      "        [5.5471, 4.2246, 5.8789],\n",
      "        [4.0966, 6.4581, 6.2265],\n",
      "        [5.2403, 3.5809, 3.7468]])\n"
     ]
    }
   ],
   "source": [
    "#3. Create a random tensor of shape 5x3 in the interval [3, 7) (between 3 and 7, including 3, excluding 7)\n",
    "# (a - b)*u + b\n",
    "\n",
    "x = (7 - 3) * torch.rand(5, 3) + 3\n",
    "describe(x)"
   ]
  },
  {
   "cell_type": "code",
   "execution_count": 64,
   "id": "c825cbcc",
   "metadata": {},
   "outputs": [
    {
     "name": "stdout",
     "output_type": "stream",
     "text": [
      "Type: torch.FloatTensor\n",
      "Shape/size: torch.Size([3, 3])\n",
      "Values: \n",
      "tensor([[-0.0059, -1.1233,  0.3227],\n",
      "        [-0.0024, -0.0501, -1.8794],\n",
      "        [ 0.0159,  1.2157, -0.4546]])\n",
      "\n",
      "\n",
      "Type: torch.FloatTensor\n",
      "Shape/size: torch.Size([3, 3])\n",
      "Values: \n",
      "tensor([[ 1.5251,  0.1403, -0.6386],\n",
      "        [ 1.9770, -0.6347,  0.1759],\n",
      "        [-0.2853,  0.1296, -1.2961]])\n"
     ]
    }
   ],
   "source": [
    "#4. Create a tensor with values from a normal distribution (mean=0, std=1).\n",
    "\n",
    "x = torch.randn(3, 3)\n",
    "describe(x)\n",
    "print(\"\\n\")\n",
    "x_2 = torch.rand(3, 3)\n",
    "x_2.normal_()\n",
    "describe(x_2)"
   ]
  },
  {
   "cell_type": "code",
   "execution_count": 66,
   "id": "ecb148d7",
   "metadata": {},
   "outputs": [
    {
     "name": "stdout",
     "output_type": "stream",
     "text": [
      "Type: torch.FloatTensor\n",
      "Shape/size: torch.Size([5])\n",
      "Values: \n",
      "tensor([1., 1., 1., 0., 1.])\n",
      "tensor([[0],\n",
      "        [1],\n",
      "        [2],\n",
      "        [4]])\n"
     ]
    }
   ],
   "source": [
    "#5. Retrieve the indexes of all the nonzero elements in the tensor torch.Tensor([1, 1, 1, 0, 1]).\n",
    "x = torch.Tensor([1, 1, 1, 0, 1])\n",
    "describe(x)\n",
    "print(torch.nonzero(x))"
   ]
  },
  {
   "cell_type": "code",
   "execution_count": 81,
   "id": "c74eda3f",
   "metadata": {},
   "outputs": [
    {
     "name": "stdout",
     "output_type": "stream",
     "text": [
      "Type: torch.FloatTensor\n",
      "Shape/size: torch.Size([3, 1])\n",
      "Values: \n",
      "tensor([[0.2203],\n",
      "        [0.4635],\n",
      "        [0.4875]])\n",
      "\n",
      "\n",
      "Type: torch.FloatTensor\n",
      "Shape/size: torch.Size([3, 3, 1])\n",
      "Values: \n",
      "tensor([[[0.2203],\n",
      "         [0.4635],\n",
      "         [0.4875]],\n",
      "\n",
      "        [[0.2203],\n",
      "         [0.4635],\n",
      "         [0.4875]],\n",
      "\n",
      "        [[0.2203],\n",
      "         [0.4635],\n",
      "         [0.4875]]])\n",
      "\n",
      "\n",
      "Type: torch.FloatTensor\n",
      "Shape/size: torch.Size([3, 4])\n",
      "Values: \n",
      "tensor([[0.2203, 0.2203, 0.2203, 0.2203],\n",
      "        [0.4635, 0.4635, 0.4635, 0.4635],\n",
      "        [0.4875, 0.4875, 0.4875, 0.4875]])\n",
      "\n",
      "\n",
      "Type: torch.FloatTensor\n",
      "Shape/size: torch.Size([3, 4])\n",
      "Values: \n",
      "tensor([[0.2203, 0.2203, 0.2203, 0.2203],\n",
      "        [0.4635, 0.4635, 0.4635, 0.4635],\n",
      "        [0.4875, 0.4875, 0.4875, 0.4875]])\n"
     ]
    }
   ],
   "source": [
    "#6. Create a random tensor of size (3,1) and then horizontally stack four copies together.\n",
    "x = torch.rand(3, 1)\n",
    "describe(x)\n",
    "print(\"\\n\")\n",
    "# stack tensors\n",
    "describe(torch.stack([x, x, x]))\n",
    "print(\"\\n\")\n",
    "describe(x.expand(3, 4))\n",
    "print(\"\\n\")\n",
    "describe(torch.hstack((x,x,x,x)))"
   ]
  },
  {
   "cell_type": "code",
   "execution_count": 86,
   "id": "92d35762",
   "metadata": {},
   "outputs": [
    {
     "name": "stdout",
     "output_type": "stream",
     "text": [
      "Type: torch.FloatTensor\n",
      "Shape/size: torch.Size([3, 4, 5])\n",
      "Values: \n",
      "tensor([[[0.6238, 0.2240, 0.9221, 0.3452, 0.1529],\n",
      "         [0.7682, 0.4278, 0.9703, 0.5976, 0.0618],\n",
      "         [0.7078, 0.0812, 0.5089, 0.9459, 0.4057],\n",
      "         [0.7795, 0.9496, 0.5941, 0.6095, 0.9961]],\n",
      "\n",
      "        [[0.7168, 0.7846, 0.6351, 0.1374, 0.5146],\n",
      "         [0.2869, 0.6179, 0.1506, 0.2222, 0.8162],\n",
      "         [0.1482, 0.4178, 0.5991, 0.0788, 0.4268],\n",
      "         [0.4430, 0.5497, 0.0945, 0.5509, 0.2530]],\n",
      "\n",
      "        [[0.6315, 0.2142, 0.6473, 0.6316, 0.3459],\n",
      "         [0.1159, 0.0268, 0.8676, 0.3844, 0.6652],\n",
      "         [0.2118, 0.0565, 0.4518, 0.3886, 0.8015],\n",
      "         [0.2065, 0.2940, 0.0144, 0.3225, 0.2099]]])\n",
      "Type: torch.FloatTensor\n",
      "Shape/size: torch.Size([3, 5, 4])\n",
      "Values: \n",
      "tensor([[[0.0705, 0.3118, 0.9960, 0.8770],\n",
      "         [0.4223, 0.5166, 0.1777, 0.8042],\n",
      "         [0.9157, 0.9105, 0.6002, 0.6166],\n",
      "         [0.9623, 0.9291, 0.1475, 0.0213],\n",
      "         [0.1279, 0.2900, 0.3209, 0.2091]],\n",
      "\n",
      "        [[0.2680, 0.1222, 0.4985, 0.4349],\n",
      "         [0.0287, 0.3902, 0.7089, 0.0897],\n",
      "         [0.3683, 0.1094, 0.2125, 0.0159],\n",
      "         [0.0522, 0.3835, 0.8761, 0.2987],\n",
      "         [0.2339, 0.3742, 0.7286, 0.8771]],\n",
      "\n",
      "        [[0.1920, 0.3815, 0.0078, 0.9994],\n",
      "         [0.1274, 0.2894, 0.0674, 0.3827],\n",
      "         [0.4188, 0.1196, 0.0399, 0.0943],\n",
      "         [0.5157, 0.6492, 0.4985, 0.2939],\n",
      "         [0.9572, 0.1229, 0.9103, 0.7864]]])\n",
      "Type: torch.FloatTensor\n",
      "Shape/size: torch.Size([3, 4, 4])\n",
      "Values: \n",
      "tensor([[[1.3346, 1.5149, 1.3145, 1.3351],\n",
      "         [1.7063, 1.9172, 1.5315, 1.6416],\n",
      "         [1.5123, 1.7225, 1.2945, 1.1048],\n",
      "         [1.7138, 2.1297, 1.7112, 2.0348]],\n",
      "\n",
      "        [[0.5760, 0.7084, 1.5437, 0.8845],\n",
      "         [0.3526, 0.6832, 1.4023, 0.9648],\n",
      "         [0.3763, 0.4366, 0.8773, 0.5093],\n",
      "         [0.2572, 0.5849, 1.2976, 0.6299]],\n",
      "\n",
      "        [[1.0764, 0.8328, 0.6749, 1.2318],\n",
      "         [1.2240, 0.4871, 0.8345, 0.8440],\n",
      "         [1.2046, 0.5020, 0.9467, 1.0204],\n",
      "         [0.4503, 0.4007, 0.3738, 0.5801]]])\n"
     ]
    }
   ],
   "source": [
    "#7. Return the batch matrix-matrix product of two three-dimensional matrices (a=torch.rand(3,4,5), b=torch.rand(3,5,4)).\n",
    "a = torch.rand(3,4,5)\n",
    "describe(a)\n",
    "b = torch.rand(3,5,4)\n",
    "describe(b)\n",
    "r = torch.bmm(a, b)\n",
    "describe(r)"
   ]
  },
  {
   "cell_type": "code",
   "execution_count": 104,
   "id": "56561d5d",
   "metadata": {},
   "outputs": [
    {
     "name": "stdout",
     "output_type": "stream",
     "text": [
      "Type: torch.FloatTensor\n",
      "Shape/size: torch.Size([3, 4, 5])\n",
      "Values: \n",
      "tensor([[[0.0510, 0.1754, 0.9079, 0.4416, 0.4796],\n",
      "         [0.7762, 0.7016, 0.9341, 0.7510, 0.6199],\n",
      "         [0.7002, 0.8488, 0.7223, 0.0516, 0.6833],\n",
      "         [0.4520, 0.0425, 0.6858, 0.3752, 0.4695]],\n",
      "\n",
      "        [[0.6134, 0.2277, 0.4507, 0.3789, 0.2831],\n",
      "         [0.7901, 0.3952, 0.2241, 0.7902, 0.6802],\n",
      "         [0.6429, 0.5314, 0.5770, 0.7010, 0.2429],\n",
      "         [0.5702, 0.2236, 0.6415, 0.5011, 0.4428]],\n",
      "\n",
      "        [[0.5588, 0.5745, 0.6510, 0.8801, 0.3895],\n",
      "         [0.2976, 0.8528, 0.6924, 0.5945, 0.3755],\n",
      "         [0.5025, 0.4968, 0.5275, 0.4302, 0.0977],\n",
      "         [0.2446, 0.9615, 0.4849, 0.7294, 0.2975]]])\n",
      "Type: torch.FloatTensor\n",
      "Shape/size: torch.Size([5, 4])\n",
      "Values: \n",
      "tensor([[0.2170, 0.0237, 0.9472, 0.0295],\n",
      "        [0.8470, 0.2237, 0.3325, 0.1894],\n",
      "        [0.5551, 0.0637, 0.2806, 0.5484],\n",
      "        [0.2149, 0.9228, 0.8760, 0.0960],\n",
      "        [0.2112, 0.5379, 0.3146, 0.1516]])\n",
      "Type: torch.FloatTensor\n",
      "Shape/size: torch.Size([3, 4, 4])\n",
      "Values: \n",
      "tensor([[[0.8599, 0.7638, 0.8991, 0.6477],\n",
      "         [1.5737, 1.2614, 2.0836, 0.8341],\n",
      "         [1.4273, 0.6676, 1.4083, 0.6861],\n",
      "         [0.6946, 0.6627, 1.1111, 0.5046]],\n",
      "\n",
      "        [[0.7174, 0.5962, 1.2042, 0.3876],\n",
      "         [0.9441, 1.2166, 1.8490, 0.4000],\n",
      "         [1.1119, 0.9485, 1.6381, 0.5401],\n",
      "         [0.8704, 0.8050, 1.3727, 0.5262]],\n",
      "\n",
      "        [[1.2406, 1.2050, 1.7965, 0.6258],\n",
      "         [1.3783, 0.9926, 1.3986, 0.6640],\n",
      "         [0.9357, 0.6062, 1.1967, 0.4543],\n",
      "         [1.3562, 1.0849, 1.4200, 0.5703]]])\n",
      "Type: torch.FloatTensor\n",
      "Shape/size: torch.Size([3, 4, 4])\n",
      "Values: \n",
      "tensor([[[0.8599, 0.7638, 0.8991, 0.6477],\n",
      "         [1.5737, 1.2614, 2.0836, 0.8341],\n",
      "         [1.4273, 0.6676, 1.4083, 0.6861],\n",
      "         [0.6946, 0.6627, 1.1111, 0.5046]],\n",
      "\n",
      "        [[0.7174, 0.5962, 1.2042, 0.3876],\n",
      "         [0.9441, 1.2166, 1.8490, 0.4000],\n",
      "         [1.1119, 0.9485, 1.6381, 0.5401],\n",
      "         [0.8704, 0.8050, 1.3727, 0.5262]],\n",
      "\n",
      "        [[1.2406, 1.2050, 1.7965, 0.6258],\n",
      "         [1.3783, 0.9926, 1.3986, 0.6640],\n",
      "         [0.9357, 0.6062, 1.1967, 0.4543],\n",
      "         [1.3562, 1.0849, 1.4200, 0.5703]]])\n"
     ]
    }
   ],
   "source": [
    "#8. Return the batch matrix-matrix product of a 3D matrix and a 2D matrix (a=torch.rand(3,4,5), b=torch.rand(5,4)).\n",
    "a = torch.rand(3,4,5)\n",
    "describe(a)\n",
    "b = torch.rand(5,4)\n",
    "describe(b)\n",
    "r = torch.bmm(a, b.unsqueeze(0).expand(a.size(0), *b.size()))\n",
    "\n",
    "# solution 1\n",
    "describe(r)\n",
    "\n",
    "# solution 2\n",
    "describe(torch.matmul(a, b))"
   ]
  },
  {
   "cell_type": "code",
   "execution_count": null,
   "id": "429cd241",
   "metadata": {},
   "outputs": [],
   "source": []
  }
 ],
 "metadata": {
  "kernelspec": {
   "display_name": "Python 3",
   "language": "python",
   "name": "python3"
  },
  "language_info": {
   "codemirror_mode": {
    "name": "ipython",
    "version": 3
   },
   "file_extension": ".py",
   "mimetype": "text/x-python",
   "name": "python",
   "nbconvert_exporter": "python",
   "pygments_lexer": "ipython3",
   "version": "3.6.13"
  }
 },
 "nbformat": 4,
 "nbformat_minor": 5
}
